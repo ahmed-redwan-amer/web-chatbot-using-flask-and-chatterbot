{
 "cells": [
  {
   "cell_type": "code",
   "execution_count": 4,
   "metadata": {},
   "outputs": [],
   "source": [
    "#Flask هو إطار تطبيق ويب WSGI خفيف الوزن. وهي مصممة لجعل البدء سريعًا وسهلاً ، مع القدرة على الارتقاء إلى مستوى التطبيقات المعقدة\n",
    "#قدم Flask اقتراحات ، لكنه لا يفرض أي تبعيات أو تخطيط مشروع. الأمر متروك للمطور لاختيار الأدوات والمكتبات التي يريدون استخدامها. هناك العديد من الإضافات التي يوفرها المجتمع والتي تجعل إضافة وظائف جديدة أمرًا سهلاً.\n",
    "from flask import Flask, render_template, request\n",
    "from chatterbot import ChatBot\n",
    "from chatterbot.trainers import ChatterBotCorpusTrainer\n",
    " \n"
   ]
  },
  {
   "cell_type": "code",
   "execution_count": null,
   "metadata": {},
   "outputs": [],
   "source": [
    "app = Flask(__name__)\n",
    " #المكتبه لا تدعم لغات غير الانجليزي\n",
    "english_bot = ChatBot(\"Chatterbot\", storage_adapter=\"chatterbot.storage.SQLStorageAdapter\")\n",
    "trainer = ChatterBotCorpusTrainer(english_bot)\n",
    "trainer.train(\"chatterbot.corpus.english\")\n",
    "#اول حاجه بعمل  render لملف html\n",
    "@app.route(\"/\")\n",
    "def home():\n",
    "    return render_template(\"index.html\")\n",
    " \n",
    "@app.route(\"/get\")\n",
    "#عرفتله فانكشن عشان يجيب الريسبونس و يحطها فوق\n",
    "def get_bot_response():\n",
    "    userText = request.args.get('msg')\n",
    "    return str(english_bot.get_response(userText))\n",
    " \n",
    " \n",
    "if __name__ == \"__main__\":\n",
    "    app.run()\n"
   ]
  },
  {
   "cell_type": "code",
   "execution_count": 3,
   "metadata": {},
   "outputs": [],
   "source": []
  },
  {
   "cell_type": "code",
   "execution_count": null,
   "metadata": {},
   "outputs": [],
   "source": []
  }
 ],
 "metadata": {
  "kernelspec": {
   "display_name": "Python 3",
   "language": "python",
   "name": "python3"
  },
  "language_info": {
   "codemirror_mode": {
    "name": "ipython",
    "version": 3
   },
   "file_extension": ".py",
   "mimetype": "text/x-python",
   "name": "python",
   "nbconvert_exporter": "python",
   "pygments_lexer": "ipython3",
   "version": "3.7.3"
  }
 },
 "nbformat": 4,
 "nbformat_minor": 4
}
